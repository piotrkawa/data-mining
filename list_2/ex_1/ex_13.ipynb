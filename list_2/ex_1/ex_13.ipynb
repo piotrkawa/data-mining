{
 "cells": [
  {
   "cell_type": "code",
   "execution_count": 1,
   "metadata": {},
   "outputs": [],
   "source": [
    "import numpy as np\n",
    "import math\n",
    "import pandas as pd\n",
    "import seaborn as sns\n",
    "import statsmodels.api as sm\n",
    "import matplotlib.pyplot as plt"
   ]
  },
  {
   "cell_type": "code",
   "execution_count": 2,
   "metadata": {},
   "outputs": [],
   "source": [
    "np.random.seed(42)"
   ]
  },
  {
   "cell_type": "code",
   "execution_count": 3,
   "metadata": {},
   "outputs": [],
   "source": [
    "def rnorm(number_of_elements, mean=0, variance_squared=1): # TODO: why there are different results\n",
    "    return math.sqrt(variance_squared) * np.random.randn(number_of_elements) + mean"
   ]
  },
  {
   "cell_type": "markdown",
   "metadata": {},
   "source": [
    "## Exercise a) \n",
    "Using the rnorm() function, create a vector, x , containing 100 observations drawn from a N (0, 1) distribution. This represents a feature, X."
   ]
  },
  {
   "cell_type": "code",
   "execution_count": 4,
   "metadata": {},
   "outputs": [],
   "source": [
    "x_list = rnorm(100)"
   ]
  },
  {
   "cell_type": "markdown",
   "metadata": {},
   "source": [
    "## Exercise b)\n",
    "Using the rnorm() function, create a vector, eps , containing 100\n",
    "observations drawn from a N (0, 0.25) distribution i.e. a normal\n",
    "distribution with mean zero and variance 0.25."
   ]
  },
  {
   "cell_type": "code",
   "execution_count": 5,
   "metadata": {},
   "outputs": [],
   "source": [
    "epsilons = rnorm(100, 0, 0.25)"
   ]
  },
  {
   "cell_type": "markdown",
   "metadata": {},
   "source": [
    "## Exercise c)\n",
    "Using x and eps , generate a vector y according to the model\n",
    "Y = −1 + 0.5X + \u0003.\n",
    "(3.39)\n",
    "What is the length of the vector y ? What are the values of β 0\n",
    "and β 1 in this linear model?"
   ]
  },
  {
   "cell_type": "code",
   "execution_count": 6,
   "metadata": {},
   "outputs": [],
   "source": [
    "y = [-1 + (0.5 * x) + e for x, e in zip(x_list, epsilons)]"
   ]
  },
  {
   "cell_type": "markdown",
   "metadata": {},
   "source": [
    "What is the length of the vector y?\n",
    "\n",
    "100\n",
    "\n",
    "What are the values of $\\beta_0$ and $\\beta_1$ in this linear model?\n",
    "\n",
    "-1 and 0.5"
   ]
  },
  {
   "cell_type": "markdown",
   "metadata": {},
   "source": [
    "## Exercise d)"
   ]
  },
  {
   "cell_type": "code",
   "execution_count": 7,
   "metadata": {},
   "outputs": [
    {
     "data": {
      "image/png": "[encoded data removed]",
      "text/plain": [
       "<Figure size 432x288 with 1 Axes>"
      ]
     },
     "metadata": {
      "needs_background": "light"
     },
     "output_type": "display_data"
    }
   ],
   "source": [
    "data = {'x': x_list, 'y': y}\n",
    "df = pd.DataFrame(data)\n",
    "ax = sns.scatterplot(x=\"x\", y=\"y\", data=df)"
   ]
  },
  {
   "cell_type": "markdown",
   "metadata": {},
   "source": [
    "## Exercise e)"
   ]
  },
  {
   "cell_type": "code",
   "execution_count": 8,
   "metadata": {
    "scrolled": false
   },
   "outputs": [
    {
     "name": "stdout",
     "output_type": "stream",
     "text": [
      "                            OLS Regression Results                            \n",
      "==============================================================================\n",
      "Dep. Variable:                      y   R-squared:                       0.404\n",
      "Model:                            OLS   Adj. R-squared:                  0.398\n",
      "Method:                 Least Squares   F-statistic:                     66.47\n",
      "Date:                Sun, 03 Nov 2019   Prob (F-statistic):           1.20e-12\n",
      "Time:                        14:59:19   Log-Likelihood:                -66.393\n",
      "No. Observations:                 100   AIC:                             136.8\n",
      "Df Residuals:                      98   BIC:                             142.0\n",
      "Df Model:                           1                                         \n",
      "Covariance Type:            nonrobust                                         \n",
      "==============================================================================\n",
      "                 coef    std err          t      P>|t|      [0.025      0.975]\n",
      "------------------------------------------------------------------------------\n",
      "Intercept     -0.9963      0.048    -20.847      0.000      -1.091      -0.901\n",
      "x              0.4284      0.053      8.153      0.000       0.324       0.533\n",
      "==============================================================================\n",
      "Omnibus:                        1.950   Durbin-Watson:                   2.194\n",
      "Prob(Omnibus):                  0.377   Jarque-Bera (JB):                1.909\n",
      "Skew:                           0.327   Prob(JB):                        0.385\n",
      "Kurtosis:                       2.829   Cond. No.                         1.16\n",
      "==============================================================================\n",
      "\n",
      "Warnings:\n",
      "[1] Standard Errors assume that the covariance matrix of the errors is correctly specified.\n"
     ]
    }
   ],
   "source": [
    "model = sm.OLS.from_formula('y ~ x', data)\n",
    "results_x = model.fit()\n",
    "print(results_x.summary())"
   ]
  },
  {
   "cell_type": "code",
   "execution_count": 9,
   "metadata": {},
   "outputs": [
    {
     "data": {
      "text/plain": [
       "Intercept    8.414791e-38\n",
       "x            1.195745e-12\n",
       "dtype: float64"
      ]
     },
     "execution_count": 9,
     "metadata": {},
     "output_type": "execute_result"
    }
   ],
   "source": [
    "results_x.pvalues"
   ]
  },
  {
   "cell_type": "markdown",
   "metadata": {},
   "source": [
    "Coefficients (-0.92 and 0.54) are relatively close to the true ones (-1.0 and 0.5).\n",
    "\n",
    "P-values are very close to 0, with F-statistic being high (107.0) $\\rightarrow$ we can reject null hypothesis."
   ]
  },
  {
   "cell_type": "markdown",
   "metadata": {},
   "source": [
    "## Exercise f)"
   ]
  },
  {
   "cell_type": "code",
   "execution_count": 10,
   "metadata": {},
   "outputs": [
    {
     "data": {
      "image/png": "[encoded data removed]",
      "text/plain": [
       "<Figure size 1080x720 with 1 Axes>"
      ]
     },
     "metadata": {
      "needs_background": "light"
     },
     "output_type": "display_data"
    }
   ],
   "source": [
    "a = results_x.params['x']\n",
    "b = results_x.params['Intercept']\n",
    "\n",
    "fig, ax = plt.subplots(figsize=(15, 10))\n",
    "ax.scatter(x_list, y, alpha=0.5)\n",
    "x = np.linspace(-3.0, 3.0, 10)\n",
    "\n",
    "ax.plot(x, eval(\"0.5 * x - 1\"), color='purple', label='Least Squares Line')\n",
    "ax.plot(x, eval(\"a * x + b\"), color='red', label='Population Regression Line')\n",
    "\n",
    "ax.set_title('Scatterplot')\n",
    "plt.legend(loc=2)\n",
    "plt.show()"
   ]
  },
  {
   "cell_type": "markdown",
   "metadata": {},
   "source": [
    "## Exercise g)"
   ]
  },
  {
   "cell_type": "code",
   "execution_count": 11,
   "metadata": {
    "scrolled": false
   },
   "outputs": [
    {
     "name": "stdout",
     "output_type": "stream",
     "text": [
      "                            OLS Regression Results                            \n",
      "==============================================================================\n",
      "Dep. Variable:                      y   R-squared:                       0.432\n",
      "Model:                            OLS   Adj. R-squared:                  0.420\n",
      "Method:                 Least Squares   F-statistic:                     36.87\n",
      "Date:                Sun, 03 Nov 2019   Prob (F-statistic):           1.23e-12\n",
      "Time:                        14:59:19   Log-Likelihood:                -64.010\n",
      "No. Observations:                 100   AIC:                             134.0\n",
      "Df Residuals:                      97   BIC:                             141.8\n",
      "Df Model:                           2                                         \n",
      "Covariance Type:            nonrobust                                         \n",
      "==============================================================================\n",
      "                 coef    std err          t      P>|t|      [0.025      0.975]\n",
      "------------------------------------------------------------------------------\n",
      "Intercept     -1.0691      0.058    -18.558      0.000      -1.183      -0.955\n",
      "x              0.4621      0.054      8.582      0.000       0.355       0.569\n",
      "I(x ** 2)      0.0922      0.042      2.176      0.032       0.008       0.176\n",
      "==============================================================================\n",
      "Omnibus:                        2.075   Durbin-Watson:                   2.233\n",
      "Prob(Omnibus):                  0.354   Jarque-Bera (JB):                1.910\n",
      "Skew:                           0.239   Prob(JB):                        0.385\n",
      "Kurtosis:                       2.521   Cond. No.                         2.27\n",
      "==============================================================================\n",
      "\n",
      "Warnings:\n",
      "[1] Standard Errors assume that the covariance matrix of the errors is correctly specified.\n"
     ]
    }
   ],
   "source": [
    "model = sm.OLS.from_formula('y ~ x + I(x**2)', data)\n",
    "results_x_squared = model.fit()\n",
    "print(results_x_squared.summary())"
   ]
  },
  {
   "cell_type": "code",
   "execution_count": 12,
   "metadata": {
    "scrolled": false
   },
   "outputs": [
    {
     "name": "stdout",
     "output_type": "stream",
     "text": [
      "R^2 of y ~ x: 0.4041453697707835\n",
      "R^2 of y ~ x + x^2: 0.43188337621030304\n"
     ]
    }
   ],
   "source": [
    "print(f'R^2 of y ~ x: {results_x.rsquared }')\n",
    "print(f'R^2 of y ~ x + x^2: {results_x_squared.rsquared }')"
   ]
  },
  {
   "cell_type": "code",
   "execution_count": 13,
   "metadata": {},
   "outputs": [
    {
     "data": {
      "text/plain": [
       "Intercept    1.108132e-33\n",
       "x            1.535656e-13\n",
       "I(x ** 2)    3.196614e-02\n",
       "dtype: float64"
      ]
     },
     "execution_count": 13,
     "metadata": {},
     "output_type": "execute_result"
    }
   ],
   "source": [
    "results_x_squared.pvalues"
   ]
  },
  {
   "cell_type": "markdown",
   "metadata": {},
   "source": [
    "There is a slight increase in the value of $R^2$, but p-value for $I(x^2)$ is > 5% - there is no relationship between y and $x^2$."
   ]
  },
  {
   "cell_type": "markdown",
   "metadata": {},
   "source": [
    "# Rerun pipeline"
   ]
  },
  {
   "cell_type": "code",
   "execution_count": 14,
   "metadata": {},
   "outputs": [],
   "source": [
    "def visualise_plots(results, x, y):\n",
    "    a = results.params['x']\n",
    "    b = results.params['Intercept']\n",
    "\n",
    "    fig, ax = plt.subplots(figsize=(15, 10))\n",
    "    ax.scatter(x, y, alpha=0.5)\n",
    "    x_values = np.linspace(-3, 3, 10)\n",
    "\n",
    "    ax.plot(x_values, eval(\"0.5 * x_values - 1\"), color='purple', label='Least Squares Line')\n",
    "    ax.plot(x_values, eval(\"a * x_values + b\"), color='red', label='Population Regression Line')\n",
    "\n",
    "    ax.set_title('Scatterplot')\n",
    "    plt.legend(loc=2)\n",
    "    plt.show()"
   ]
  },
  {
   "cell_type": "code",
   "execution_count": 15,
   "metadata": {},
   "outputs": [],
   "source": [
    "def perform_pipeline(variance):\n",
    "\n",
    "    x_list = rnorm(100)\n",
    "    epsilons = rnorm(100, 0, variance)\n",
    "    # eps\n",
    "\n",
    "    y = [-1 + (0.5 * x) + e for x, e in zip(x_list, epsilons)]\n",
    "    data = {'x': x_list, 'y': y}\n",
    "    # TODO: visualize\n",
    "    \n",
    "    \n",
    "    model = sm.OLS.from_formula('y ~ x', data)\n",
    "    results = model.fit()\n",
    "    print(results.summary())\n",
    "    \n",
    "    a = results.params['x']\n",
    "    b = results.params['Intercept']\n",
    "\n",
    "    visualise_plots(results, x_list, y)\n",
    "    print('\\n' * 3)\n",
    "\n",
    "    model = sm.OLS.from_formula('y ~ x + I(x**2)', data)\n",
    "    results_squared = model.fit()\n",
    "    print(results_squared.summary())\n",
    "    return results, results_squared"
   ]
  },
  {
   "cell_type": "markdown",
   "metadata": {},
   "source": [
    "## Ex h) Less noise"
   ]
  },
  {
   "cell_type": "code",
   "execution_count": 16,
   "metadata": {},
   "outputs": [
    {
     "name": "stdout",
     "output_type": "stream",
     "text": [
      "                            OLS Regression Results                            \n",
      "==============================================================================\n",
      "Dep. Variable:                      y   R-squared:                       0.601\n",
      "Model:                            OLS   Adj. R-squared:                  0.596\n",
      "Method:                 Least Squares   F-statistic:                     147.3\n",
      "Date:                Sun, 03 Nov 2019   Prob (F-statistic):           3.05e-21\n",
      "Time:                        14:59:19   Log-Likelihood:                -59.758\n",
      "No. Observations:                 100   AIC:                             123.5\n",
      "Df Residuals:                      98   BIC:                             128.7\n",
      "Df Model:                           1                                         \n",
      "Covariance Type:            nonrobust                                         \n",
      "==============================================================================\n",
      "                 coef    std err          t      P>|t|      [0.025      0.975]\n",
      "------------------------------------------------------------------------------\n",
      "Intercept     -0.9466      0.045    -21.266      0.000      -1.035      -0.858\n",
      "x              0.4999      0.041     12.138      0.000       0.418       0.582\n",
      "==============================================================================\n",
      "Omnibus:                        0.784   Durbin-Watson:                   1.854\n",
      "Prob(Omnibus):                  0.676   Jarque-Bera (JB):                0.876\n",
      "Skew:                           0.197   Prob(JB):                        0.645\n",
      "Kurtosis:                       2.765   Cond. No.                         1.10\n",
      "==============================================================================\n",
      "\n",
      "Warnings:\n",
      "[1] Standard Errors assume that the covariance matrix of the errors is correctly specified.\n"
     ]
    },
    {
     "data": {
      "image/png": "[encoded data removed]",
      "text/plain": [
       "<Figure size 1080x720 with 1 Axes>"
      ]
     },
     "metadata": {
      "needs_background": "light"
     },
     "output_type": "display_data"
    },
    {
     "name": "stdout",
     "output_type": "stream",
     "text": [
      "\n",
      "\n",
      "\n",
      "\n",
      "                            OLS Regression Results                            \n",
      "==============================================================================\n",
      "Dep. Variable:                      y   R-squared:                       0.601\n",
      "Model:                            OLS   Adj. R-squared:                  0.593\n",
      "Method:                 Least Squares   F-statistic:                     73.11\n",
      "Date:                Sun, 03 Nov 2019   Prob (F-statistic):           4.34e-20\n",
      "Time:                        14:59:20   Log-Likelihood:                -59.681\n",
      "No. Observations:                 100   AIC:                             125.4\n",
      "Df Residuals:                      97   BIC:                             133.2\n",
      "Df Model:                           2                                         \n",
      "Covariance Type:            nonrobust                                         \n",
      "==============================================================================\n",
      "                 coef    std err          t      P>|t|      [0.025      0.975]\n",
      "------------------------------------------------------------------------------\n",
      "Intercept     -0.9367      0.051    -18.203      0.000      -1.039      -0.835\n",
      "x              0.5026      0.042     11.978      0.000       0.419       0.586\n",
      "I(x ** 2)     -0.0086      0.022     -0.388      0.699      -0.053       0.035\n",
      "==============================================================================\n",
      "Omnibus:                        0.668   Durbin-Watson:                   1.854\n",
      "Prob(Omnibus):                  0.716   Jarque-Bera (JB):                0.770\n",
      "Skew:                           0.180   Prob(JB):                        0.680\n",
      "Kurtosis:                       2.764   Cond. No.                         2.87\n",
      "==============================================================================\n",
      "\n",
      "Warnings:\n",
      "[1] Standard Errors assume that the covariance matrix of the errors is correctly specified.\n"
     ]
    }
   ],
   "source": [
    "results_less_noise, results_less_noise_squared = perform_pipeline(0.25)"
   ]
  },
  {
   "cell_type": "markdown",
   "metadata": {},
   "source": [
    "## Ex i) More noise"
   ]
  },
  {
   "cell_type": "code",
   "execution_count": 17,
   "metadata": {},
   "outputs": [
    {
     "name": "stdout",
     "output_type": "stream",
     "text": [
      "                            OLS Regression Results                            \n",
      "==============================================================================\n",
      "Dep. Variable:                      y   R-squared:                       0.193\n",
      "Model:                            OLS   Adj. R-squared:                  0.185\n",
      "Method:                 Least Squares   F-statistic:                     23.41\n",
      "Date:                Sun, 03 Nov 2019   Prob (F-statistic):           4.86e-06\n",
      "Time:                        14:59:20   Log-Likelihood:                -133.04\n",
      "No. Observations:                 100   AIC:                             270.1\n",
      "Df Residuals:                      98   BIC:                             275.3\n",
      "Df Model:                           1                                         \n",
      "Covariance Type:            nonrobust                                         \n",
      "==============================================================================\n",
      "                 coef    std err          t      P>|t|      [0.025      0.975]\n",
      "------------------------------------------------------------------------------\n",
      "Intercept     -1.1196      0.093    -12.093      0.000      -1.303      -0.936\n",
      "x              0.4227      0.087      4.839      0.000       0.249       0.596\n",
      "==============================================================================\n",
      "Omnibus:                        0.436   Durbin-Watson:                   2.120\n",
      "Prob(Omnibus):                  0.804   Jarque-Bera (JB):                0.126\n",
      "Skew:                          -0.045   Prob(JB):                        0.939\n",
      "Kurtosis:                       3.149   Cond. No.                         1.08\n",
      "==============================================================================\n",
      "\n",
      "Warnings:\n",
      "[1] Standard Errors assume that the covariance matrix of the errors is correctly specified.\n"
     ]
    },
    {
     "data": {
      "image/png": "[encoded data removed]",
      "text/plain": [
       "<Figure size 1080x720 with 1 Axes>"
      ]
     },
     "metadata": {
      "needs_background": "light"
     },
     "output_type": "display_data"
    },
    {
     "name": "stdout",
     "output_type": "stream",
     "text": [
      "\n",
      "\n",
      "\n",
      "\n",
      "                            OLS Regression Results                            \n",
      "==============================================================================\n",
      "Dep. Variable:                      y   R-squared:                       0.194\n",
      "Model:                            OLS   Adj. R-squared:                  0.178\n",
      "Method:                 Least Squares   F-statistic:                     11.69\n",
      "Date:                Sun, 03 Nov 2019   Prob (F-statistic):           2.82e-05\n",
      "Time:                        14:59:20   Log-Likelihood:                -132.95\n",
      "No. Observations:                 100   AIC:                             271.9\n",
      "Df Residuals:                      97   BIC:                             279.7\n",
      "Df Model:                           2                                         \n",
      "Covariance Type:            nonrobust                                         \n",
      "==============================================================================\n",
      "                 coef    std err          t      P>|t|      [0.025      0.975]\n",
      "------------------------------------------------------------------------------\n",
      "Intercept     -1.0894      0.119     -9.187      0.000      -1.325      -0.854\n",
      "x              0.4269      0.088      4.833      0.000       0.252       0.602\n",
      "I(x ** 2)     -0.0267      0.065     -0.411      0.682      -0.156       0.102\n",
      "==============================================================================\n",
      "Omnibus:                        0.345   Durbin-Watson:                   2.095\n",
      "Prob(Omnibus):                  0.841   Jarque-Bera (JB):                0.076\n",
      "Skew:                          -0.032   Prob(JB):                        0.963\n",
      "Kurtosis:                       3.119   Cond. No.                         2.67\n",
      "==============================================================================\n",
      "\n",
      "Warnings:\n",
      "[1] Standard Errors assume that the covariance matrix of the errors is correctly specified.\n"
     ]
    }
   ],
   "source": [
    "results_more_noise, results_more_noise_squared = perform_pipeline(1)"
   ]
  },
  {
   "cell_type": "markdown",
   "metadata": {},
   "source": [
    "# Confidence intervals\n",
    "\n",
    "mean +- 1.96 * std / sqrt(count)"
   ]
  },
  {
   "cell_type": "code",
   "execution_count": 18,
   "metadata": {},
   "outputs": [],
   "source": [
    "def get_confidence_intervals_size(dataframe, variable):\n",
    "    ci = dataframe.loc[variable]\n",
    "    return abs(ci[0] - ci[1])"
   ]
  },
  {
   "cell_type": "markdown",
   "metadata": {},
   "source": [
    "## Initial dataset"
   ]
  },
  {
   "cell_type": "code",
   "execution_count": 19,
   "metadata": {},
   "outputs": [
    {
     "data": {
      "text/html": [
       "<div>\n",
       "<style scoped>\n",
       "    .dataframe tbody tr th:only-of-type {\n",
       "        vertical-align: middle;\n",
       "    }\n",
       "\n",
       "    .dataframe tbody tr th {\n",
       "        vertical-align: top;\n",
       "    }\n",
       "\n",
       "    .dataframe thead th {\n",
       "        text-align: right;\n",
       "    }\n",
       "</style>\n",
       "<table border=\"1\" class=\"dataframe\">\n",
       "  <thead>\n",
       "    <tr style=\"text-align: right;\">\n",
       "      <th></th>\n",
       "      <th>0</th>\n",
       "      <th>1</th>\n",
       "    </tr>\n",
       "  </thead>\n",
       "  <tbody>\n",
       "    <tr>\n",
       "      <th>Intercept</th>\n",
       "      <td>-1.091125</td>\n",
       "      <td>-0.901447</td>\n",
       "    </tr>\n",
       "    <tr>\n",
       "      <th>x</th>\n",
       "      <td>0.324103</td>\n",
       "      <td>0.532640</td>\n",
       "    </tr>\n",
       "  </tbody>\n",
       "</table>\n",
       "</div>"
      ],
      "text/plain": [
       "                  0         1\n",
       "Intercept -1.091125 -0.901447\n",
       "x          0.324103  0.532640"
      ]
     },
     "execution_count": 19,
     "metadata": {},
     "output_type": "execute_result"
    }
   ],
   "source": [
    "ci_initial = results_x.conf_int()\n",
    "ci_initial"
   ]
  },
  {
   "cell_type": "code",
   "execution_count": 20,
   "metadata": {},
   "outputs": [],
   "source": [
    "# results_x_squared.conf_int()"
   ]
  },
  {
   "cell_type": "markdown",
   "metadata": {},
   "source": [
    "## Less noise dataset"
   ]
  },
  {
   "cell_type": "code",
   "execution_count": 21,
   "metadata": {},
   "outputs": [
    {
     "data": {
      "text/html": [
       "<div>\n",
       "<style scoped>\n",
       "    .dataframe tbody tr th:only-of-type {\n",
       "        vertical-align: middle;\n",
       "    }\n",
       "\n",
       "    .dataframe tbody tr th {\n",
       "        vertical-align: top;\n",
       "    }\n",
       "\n",
       "    .dataframe thead th {\n",
       "        text-align: right;\n",
       "    }\n",
       "</style>\n",
       "<table border=\"1\" class=\"dataframe\">\n",
       "  <thead>\n",
       "    <tr style=\"text-align: right;\">\n",
       "      <th></th>\n",
       "      <th>0</th>\n",
       "      <th>1</th>\n",
       "    </tr>\n",
       "  </thead>\n",
       "  <tbody>\n",
       "    <tr>\n",
       "      <th>Intercept</th>\n",
       "      <td>-1.034902</td>\n",
       "      <td>-0.858244</td>\n",
       "    </tr>\n",
       "    <tr>\n",
       "      <th>x</th>\n",
       "      <td>0.418168</td>\n",
       "      <td>0.581620</td>\n",
       "    </tr>\n",
       "  </tbody>\n",
       "</table>\n",
       "</div>"
      ],
      "text/plain": [
       "                  0         1\n",
       "Intercept -1.034902 -0.858244\n",
       "x          0.418168  0.581620"
      ]
     },
     "execution_count": 21,
     "metadata": {},
     "output_type": "execute_result"
    }
   ],
   "source": [
    "ci_less_noise = results_less_noise.conf_int()\n",
    "ci_less_noise"
   ]
  },
  {
   "cell_type": "code",
   "execution_count": 22,
   "metadata": {},
   "outputs": [],
   "source": [
    "# results_less_noise_squared.conf_int()"
   ]
  },
  {
   "cell_type": "markdown",
   "metadata": {},
   "source": [
    "## More noise dataset"
   ]
  },
  {
   "cell_type": "code",
   "execution_count": 23,
   "metadata": {
    "scrolled": true
   },
   "outputs": [
    {
     "data": {
      "text/html": [
       "<div>\n",
       "<style scoped>\n",
       "    .dataframe tbody tr th:only-of-type {\n",
       "        vertical-align: middle;\n",
       "    }\n",
       "\n",
       "    .dataframe tbody tr th {\n",
       "        vertical-align: top;\n",
       "    }\n",
       "\n",
       "    .dataframe thead th {\n",
       "        text-align: right;\n",
       "    }\n",
       "</style>\n",
       "<table border=\"1\" class=\"dataframe\">\n",
       "  <thead>\n",
       "    <tr style=\"text-align: right;\">\n",
       "      <th></th>\n",
       "      <th>0</th>\n",
       "      <th>1</th>\n",
       "    </tr>\n",
       "  </thead>\n",
       "  <tbody>\n",
       "    <tr>\n",
       "      <th>Intercept</th>\n",
       "      <td>-1.303366</td>\n",
       "      <td>-0.935904</td>\n",
       "    </tr>\n",
       "    <tr>\n",
       "      <th>x</th>\n",
       "      <td>0.249345</td>\n",
       "      <td>0.596046</td>\n",
       "    </tr>\n",
       "  </tbody>\n",
       "</table>\n",
       "</div>"
      ],
      "text/plain": [
       "                  0         1\n",
       "Intercept -1.303366 -0.935904\n",
       "x          0.249345  0.596046"
      ]
     },
     "execution_count": 23,
     "metadata": {},
     "output_type": "execute_result"
    }
   ],
   "source": [
    "ci_more_noise = results_more_noise.conf_int()\n",
    "ci_more_noise"
   ]
  },
  {
   "cell_type": "code",
   "execution_count": 24,
   "metadata": {
    "scrolled": false
   },
   "outputs": [],
   "source": [
    "# results_more_noise_squared.conf_int()"
   ]
  },
  {
   "cell_type": "code",
   "execution_count": 25,
   "metadata": {},
   "outputs": [],
   "source": [
    "initial_ci_size = get_confidence_intervals_size(ci_initial, 'x')\n",
    "less_noise_ci_size = get_confidence_intervals_size(ci_less_noise, 'x')\n",
    "more_noise_ci_size = get_confidence_intervals_size(ci_more_noise, 'x')"
   ]
  },
  {
   "cell_type": "code",
   "execution_count": 26,
   "metadata": {},
   "outputs": [
    {
     "name": "stdout",
     "output_type": "stream",
     "text": [
      "0.20853683693361585\n",
      "0.16345206554318614\n",
      "0.3467013818909459\n"
     ]
    }
   ],
   "source": [
    "print(initial_ci_size)\n",
    "print(less_noise_ci_size)\n",
    "print(more_noise_ci_size)"
   ]
  },
  {
   "cell_type": "markdown",
   "metadata": {},
   "source": [
    "All the intervals are oscillating around $0.5$, the narrowest interval is the second one - the one with less noise."
   ]
  }
 ],
 "metadata": {
  "kernelspec": {
   "display_name": "Python 3",
   "language": "python",
   "name": "python3"
  },
  "language_info": {
   "codemirror_mode": {
    "name": "ipython",
    "version": 3
   },
   "file_extension": ".py",
   "mimetype": "text/x-python",
   "name": "python",
   "nbconvert_exporter": "python",
   "pygments_lexer": "ipython3",
   "version": "3.7.4"
  }
 },
 "nbformat": 4,
 "nbformat_minor": 2
}
