{
 "cells": [
  {
   "cell_type": "code",
   "execution_count": 1,
   "metadata": {},
   "outputs": [],
   "source": [
    "import numpy as np\n",
    "from xgboost import XGBClassifier\n",
    "import pickle\n",
    "import nltk\n",
    "from nltk.stem.snowball import SnowballStemmer\n",
    "\n",
    "from sklearn.datasets import fetch_20newsgroups\n",
    "from sklearn.pipeline import Pipeline\n",
    "from sklearn.feature_extraction.text import CountVectorizer\n",
    "from sklearn.feature_extraction.text import TfidfTransformer\n",
    "from sklearn.model_selection import GridSearchCV"
   ]
  },
  {
   "cell_type": "code",
   "execution_count": 12,
   "metadata": {},
   "outputs": [],
   "source": [
    "def load_model(file_name):\n",
    "    with open(file_name, \"rb\") as f:\n",
    "        while True:\n",
    "            try:\n",
    "                model = pickle.load(f)\n",
    "                print('Model loaded successfully')\n",
    "            except EOFError:\n",
    "                break\n",
    "    return model \n",
    "\n",
    "def test_model(model, dataset=test_set):\n",
    "    predicted = model.predict(dataset.data)\n",
    "    return np.mean(predicted == dataset.target)"
   ]
  },
  {
   "cell_type": "markdown",
   "metadata": {},
   "source": [
    "## Download datasets"
   ]
  },
  {
   "cell_type": "code",
   "execution_count": 3,
   "metadata": {},
   "outputs": [],
   "source": [
    "train_set = fetch_20newsgroups(subset='train', shuffle=True)\n",
    "test_set = fetch_20newsgroups(subset='test', shuffle=True)"
   ]
  },
  {
   "cell_type": "markdown",
   "metadata": {},
   "source": [
    "## Download data for stemming"
   ]
  },
  {
   "cell_type": "code",
   "execution_count": 4,
   "metadata": {},
   "outputs": [
    {
     "name": "stderr",
     "output_type": "stream",
     "text": [
      "[nltk_data] Downloading package snowball_data to\n",
      "[nltk_data]     /home/pietrek/nltk_data...\n",
      "[nltk_data]   Package snowball_data is already up-to-date!\n",
      "[nltk_data] Downloading package stopwords to\n",
      "[nltk_data]     /home/pietrek/nltk_data...\n",
      "[nltk_data]   Package stopwords is already up-to-date!\n"
     ]
    },
    {
     "data": {
      "text/plain": [
       "True"
      ]
     },
     "execution_count": 4,
     "metadata": {},
     "output_type": "execute_result"
    }
   ],
   "source": [
    "nltk.download('snowball_data')\n",
    "nltk.download('stopwords')"
   ]
  },
  {
   "cell_type": "markdown",
   "metadata": {},
   "source": [
    "## Prepare stemming based CountVectorizer"
   ]
  },
  {
   "cell_type": "code",
   "execution_count": 5,
   "metadata": {},
   "outputs": [],
   "source": [
    "class StemmedCountVectorizer(CountVectorizer):\n",
    "    def build_analyzer(self):\n",
    "        analyzer = super(StemmedCountVectorizer, self).build_analyzer()\n",
    "        return lambda doc: ([stemmer.stem(w) for w in analyzer(doc)])\n",
    "\n",
    "stemmer = SnowballStemmer(\"english\", ignore_stopwords=True)\n",
    "stemmed_count_vect = StemmedCountVectorizer(stop_words='english')"
   ]
  },
  {
   "cell_type": "markdown",
   "metadata": {},
   "source": [
    "## Prepare parameters and GridSearch pipeline"
   ]
  },
  {
   "cell_type": "code",
   "execution_count": null,
   "metadata": {},
   "outputs": [],
   "source": [
    "parameters = {\n",
    "    'vect__ngram_range': [(1, 1),(1, 2)],  \n",
    "    'tfidf__use_idf': (True, False),\n",
    "    'dtc__max_depth': [1, 6, 8, 10],\n",
    "    'dtc__reg_lambda': [1, 1.2, 3]\n",
    "}\n",
    "\n",
    "pipe_clf = Pipeline([\n",
    "    ('vect', stemmed_count_vect),\n",
    "    ('tfidf', TfidfTransformer()), \n",
    "    ('dtc', XGBClassifier(\n",
    "        seed=13\n",
    "    ))\n",
    "])\n",
    "\n",
    "gs_clf = GridSearchCV(pipe_clf, parameters, n_jobs=-1)"
   ]
  },
  {
   "cell_type": "markdown",
   "metadata": {},
   "source": [
    "## Run GridSearch"
   ]
  },
  {
   "cell_type": "code",
   "execution_count": null,
   "metadata": {
    "scrolled": true
   },
   "outputs": [],
   "source": [
    "gs_clf = gs_clf.fit(train_set.data, train_set.target)\n",
    "model = gs_clf.best_estimator_\n",
    "\n",
    "print(\"Best score: %s\" % gs_clf.best_score_) \n",
    "print(\"Best param: %s\" % gs_clf.best_params_) "
   ]
  },
  {
   "cell_type": "markdown",
   "metadata": {},
   "source": [
    "## Save the best model to file"
   ]
  },
  {
   "cell_type": "code",
   "execution_count": null,
   "metadata": {},
   "outputs": [],
   "source": [
    "with open(\"model.pckl\", \"wb\") as f:\n",
    "    pickle.dump(model, f)"
   ]
  },
  {
   "cell_type": "markdown",
   "metadata": {},
   "source": [
    "## Load the best model and run test set evaluation"
   ]
  },
  {
   "cell_type": "code",
   "execution_count": null,
   "metadata": {
    "scrolled": false
   },
   "outputs": [],
   "source": [
    "xgboost = load_model('xgboost.pckl')\n",
    "test_model(xgboost)"
   ]
  },
  {
   "cell_type": "markdown",
   "metadata": {},
   "source": [
    "# SVM"
   ]
  },
  {
   "cell_type": "code",
   "execution_count": null,
   "metadata": {},
   "outputs": [],
   "source": [
    "from sklearn.svm import SVC\n",
    "parameters = {\n",
    "    'vect__ngram_range': [(1, 2)],  \n",
    "    'tfidf__use_idf': [True],\n",
    "    'dtc__kernel': [\"linear\", \"poly\", \"rbf\", \"sigmoid\"],\n",
    "    'dtc__C': [1, 10, 100, 1000], \n",
    "    'dtc__gamma': [0.1, 0.001, 0.0001]\n",
    "}\n",
    "pipe_clf = Pipeline([\n",
    "    ('vect', stemmed_count_vect),\n",
    "    ('tfidf', TfidfTransformer()), \n",
    "    ('dtc', SVC())\n",
    "])\n",
    "\n",
    "gs_clf = GridSearchCV(pipe_clf, parameters, n_jobs=-1)\n",
    "gs_clf = gs_clf.fit(train_set.data, train_set.target)\n",
    "model = gs_clf.best_estimator_\n",
    "\n",
    "print(\"Best score: %s\" % gs_clf.best_score_) \n",
    "print(\"Best param: %s\" % gs_clf.best_params_) \n",
    "with open(\"svm_model.pckl\", \"wb\") as f:\n",
    "    pickle.dump(model, f)"
   ]
  },
  {
   "cell_type": "markdown",
   "metadata": {},
   "source": [
    "# Random Forest"
   ]
  },
  {
   "cell_type": "code",
   "execution_count": null,
   "metadata": {
    "scrolled": true
   },
   "outputs": [],
   "source": [
    "from sklearn.ensemble import RandomForestClassifier\n",
    "\n",
    "parameters = {\n",
    "    'vect__ngram_range': [(1, 2)],  \n",
    "    'tfidf__use_idf': [True],\n",
    "    'dtc__n_estimators': [10, 100, 1000],\n",
    "    'dtc__max_depth': [10, 100, None], \n",
    "    'dtc__class_weight': [None, \"balanced\",]\n",
    "}\n",
    "pipe_clf = Pipeline([\n",
    "    ('vect', stemmed_count_vect),\n",
    "    ('tfidf', TfidfTransformer()), \n",
    "    ('dtc', RandomForestClassifier())\n",
    "])\n",
    "\n",
    "gs_clf = GridSearchCV(pipe_clf, parameters, n_jobs=-1)\n",
    "gs_clf = gs_clf.fit(train_set.data, train_set.target)\n",
    "model = gs_clf.best_estimator_\n",
    "\n",
    "print(\"Best score: %s\" % gs_clf.best_score_) \n",
    "print(\"Best param: %s\" % gs_clf.best_params_) \n",
    "with open(\"svm_model.pckl\", \"wb\") as f:\n",
    "    pickle.dump(model, f)"
   ]
  },
  {
   "cell_type": "code",
   "execution_count": 7,
   "metadata": {},
   "outputs": [
    {
     "name": "stdout",
     "output_type": "stream",
     "text": [
      "Model loaded successfully\n"
     ]
    },
    {
     "data": {
      "text/plain": [
       "0.7679235262878386"
      ]
     },
     "execution_count": 7,
     "metadata": {},
     "output_type": "execute_result"
    }
   ],
   "source": [
    "svm_model = load_model('models/xgboost.pckl')\n",
    "test_model(svm_model)"
   ]
  },
  {
   "cell_type": "markdown",
   "metadata": {},
   "source": [
    "# SGDClassifier"
   ]
  },
  {
   "cell_type": "code",
   "execution_count": 11,
   "metadata": {
    "scrolled": true
   },
   "outputs": [
    {
     "name": "stdout",
     "output_type": "stream",
     "text": [
      "Best score: 0.8987101931545529\n",
      "Best param: {'dtc__alpha': 0.01, 'dtc__fit_intercept': True, 'tfidf__use_idf': True, 'vect__ngram_range': (1, 2)}\n"
     ]
    }
   ],
   "source": [
    "from sklearn.linear_model import SGDClassifier\n",
    "\n",
    "parameters = {\n",
    "    'vect__ngram_range': [(1, 2)], (1, 1)],  \n",
    "    'tfidf__use_idf': [True],\n",
    "    'dtc__alpha': [1e-2, 1e-3, 1e-1],\n",
    "    'dtc__fit_intercept': [True, False]\n",
    "}\n",
    "\n",
    "pipe_clf = Pipeline([\n",
    "    ('vect', stemmed_count_vect),\n",
    "    ('tfidf', TfidfTransformer()), \n",
    "    ('dtc', SGDClassifier())\n",
    "])\n",
    "\n",
    "gs_clf = GridSearchCV(pipe_clf, parameters, n_jobs=-1)\n",
    "gs_clf = gs_clf.fit(train_set.data, train_set.target)\n",
    "model = gs_clf.best_estimator_\n",
    "\n",
    "print(\"Best score: %s\" % gs_clf.best_score_) \n",
    "print(\"Best param: %s\" % gs_clf.best_params_) \n",
    "with open(\"sgd_modelz.pckl\", \"wb\") as f:\n",
    "    pickle.dump(model, f)"
   ]
  },
  {
   "cell_type": "code",
   "execution_count": 13,
   "metadata": {},
   "outputs": [
    {
     "name": "stdout",
     "output_type": "stream",
     "text": [
      "Model loaded successfully\n",
      "0.8207530493194273\n",
      "0.9883165161975571\n"
     ]
    }
   ],
   "source": [
    "svm_model = load_model('models/sgd_model.pckl')\n",
    "print(test_model(svm_model, train_set))\n",
    "print(test_model(svm_model))"
   ]
  },
  {
   "cell_type": "code",
   "execution_count": null,
   "metadata": {},
   "outputs": [],
   "source": []
  }
 ],
 "metadata": {
  "kernelspec": {
   "display_name": "Python 3",
   "language": "python",
   "name": "python3"
  },
  "language_info": {
   "codemirror_mode": {
    "name": "ipython",
    "version": 3
   },
   "file_extension": ".py",
   "mimetype": "text/x-python",
   "name": "python",
   "nbconvert_exporter": "python",
   "pygments_lexer": "ipython3",
   "version": "3.7.4"
  }
 },
 "nbformat": 4,
 "nbformat_minor": 2
}
