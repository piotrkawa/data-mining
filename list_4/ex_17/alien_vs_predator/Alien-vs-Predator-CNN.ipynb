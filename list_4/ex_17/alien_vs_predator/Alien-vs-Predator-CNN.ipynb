{
 "cells": [
  {
   "cell_type": "code",
   "execution_count": null,
   "metadata": {},
   "outputs": [],
   "source": [
    "# https://www.kaggle.com/pmigdal/alien-vs-predator-images"
   ]
  },
  {
   "cell_type": "code",
   "execution_count": null,
   "metadata": {},
   "outputs": [],
   "source": [
    "from tensorflow.keras.applications import Xception\n",
    "import numpy as np\n",
    "import matplotlib.pyplot as plt\n",
    "from sklearn.model_selection import train_test_split\n",
    "from tensorflow.keras import layers\n",
    "from tensorflow.keras import models\n",
    "from tensorflow.keras.models import  Sequential\n",
    "from tensorflow.keras.layers import Conv2D, MaxPooling2D, Flatten, Dense, BatchNormalization, Activation, Dropout\n",
    "from tensorflow.keras.preprocessing.image import ImageDataGenerator\n",
    "from tensorflow.keras.applications import Xception"
   ]
  },
  {
   "cell_type": "code",
   "execution_count": null,
   "metadata": {},
   "outputs": [],
   "source": [
    "input_shape = (150, 150, 3)\n",
    "target_size = (150, 150)\n",
    "\n",
    "batch_size = 16"
   ]
  },
  {
   "cell_type": "code",
   "execution_count": null,
   "metadata": {},
   "outputs": [],
   "source": [
    "def visualize_history(history):\n",
    "    acc = history.history['accuracy']\n",
    "    val_acc = history.history['val_accuracy']\n",
    "    loss = history.history['loss']\n",
    "    val_loss = history.history['val_loss']\n",
    "\n",
    "    epochs = range(len(acc))\n",
    "\n",
    "    plt.plot(epochs, acc, 'bo', label='Training accuracy')\n",
    "    plt.plot(epochs, val_acc, 'b', label='Validation accuracy')\n",
    "    plt.title('Training and validation accuracy')\n",
    "    plt.legend()\n",
    "\n",
    "    plt.figure()\n",
    "\n",
    "    plt.plot(epochs, loss, 'bo', label='Training loss')\n",
    "    plt.plot(epochs, val_loss, 'b', label='Validation loss')\n",
    "    plt.title('Training and validation loss')\n",
    "    plt.legend()\n",
    "\n",
    "    plt.show()"
   ]
  },
  {
   "cell_type": "code",
   "execution_count": null,
   "metadata": {},
   "outputs": [],
   "source": [
    "def build_base_cnn_model():\n",
    "    model = Sequential()\n",
    "    model.add(Conv2D(input_shape=input_shape, filters=64, kernel_size=(4,4), strides=(2)))\n",
    "    model.add(Activation('relu'))\n",
    "    model.add(Conv2D(filters=64, kernel_size=(4,4), strides=(1)))\n",
    "    model.add(MaxPooling2D(pool_size=4))\n",
    "    model.add(Dropout(0.3))\n",
    "    model.add(Flatten())\n",
    "    model.add(Dense(512, activation='relu'))\n",
    "    model.add(BatchNormalization())\n",
    "    model.add(Dense(1, activation='sigmoid'))\n",
    "    model.compile(\n",
    "        optimizer = 'adam', \n",
    "        loss = 'binary_crossentropy', \n",
    "        metrics = ['accuracy']\n",
    "    )\n",
    "    return model\n",
    "\n",
    "base_cnn_model = build_base_cnn_model()\n",
    "base_cnn_model.summary()"
   ]
  },
  {
   "cell_type": "code",
   "execution_count": null,
   "metadata": {},
   "outputs": [],
   "source": [
    "train_samples = 694\n",
    "test_samples = 200\n",
    "\n",
    "training_steps = train_samples // batch_size\n",
    "validation_steps = test_samples // batch_size\n",
    "\n",
    "\n",
    "def get_train_test_generator():\n",
    "    train_datagen = ImageDataGenerator(\n",
    "        rescale=1./255,\n",
    "    )\n",
    "\n",
    "    test_datagen = ImageDataGenerator(\n",
    "        rescale=1./255,\n",
    "    )\n",
    "\n",
    "    train_generator = train_datagen.flow_from_directory(\n",
    "        \"data/train\",\n",
    "        target_size=target_size,\n",
    "        batch_size=batch_size,\n",
    "        class_mode='binary'\n",
    "    )\n",
    "\n",
    "    validation_generator = test_datagen.flow_from_directory(\n",
    "        \"data/validation\",\n",
    "        batch_size=batch_size,\n",
    "        target_size=target_size,\n",
    "        class_mode='binary'\n",
    "    )\n",
    "    return train_generator, validation_generator"
   ]
  },
  {
   "cell_type": "code",
   "execution_count": null,
   "metadata": {
    "scrolled": true
   },
   "outputs": [],
   "source": [
    "history_base_cnn = base_cnn_model.fit_generator(\n",
    "    train_generator,  \n",
    "    steps_per_epoch=train_samples // batch_size,\n",
    "    epochs=10,\n",
    "    validation_data=validation_generator,\n",
    "    validation_steps=test_samples // batch_size\n",
    ")\n",
    "\n",
    "base_cnn_model.save(\"base_cnn_model.h5\")\n",
    "visualize_history(history_base_cnn)"
   ]
  },
  {
   "cell_type": "markdown",
   "metadata": {},
   "source": [
    "# Data Augmentation"
   ]
  },
  {
   "cell_type": "code",
   "execution_count": null,
   "metadata": {},
   "outputs": [],
   "source": [
    "def get_augmented_train_test_generator():\n",
    "        \n",
    "    train_datagen = ImageDataGenerator(\n",
    "        rescale=1./255,\n",
    "        shear_range=10,\n",
    "        zoom_range=0.2,\n",
    "        horizontal_flip=True,\n",
    "    )\n",
    "\n",
    "    test_datagen = ImageDataGenerator(\n",
    "        rescale=1./255,\n",
    "    )\n",
    "\n",
    "    train_generator = train_datagen.flow_from_directory(\n",
    "        \"data/train\",\n",
    "        target_size=target_size,\n",
    "        batch_size=batch_size,\n",
    "        class_mode='binary'\n",
    "    )\n",
    "\n",
    "    validation_generator = test_datagen.flow_from_directory(\n",
    "        \"data/validation\",\n",
    "        batch_size=batch_size,\n",
    "        target_size=target_size,\n",
    "        class_mode='binary'\n",
    "    )\n",
    "    return train_generator, validation_generator\n",
    "\n",
    "\n",
    "train_generator, validation_generator = get_augmented_train_test_generator()\n",
    "base_cnn_model_with_augmentation = build_base_cnn_model()\n",
    "\n",
    "history_base_augmented_cnn = base_cnn_model_with_augmentation.fit_generator(\n",
    "    train_generator,\n",
    "    steps_per_epoch=training_steps,\n",
    "    epochs=10,\n",
    "    validation_data=validation_generator,\n",
    "    validation_steps=validation_steps\n",
    ")\n",
    "\n",
    "\n",
    "base_cnn_model_with_augmentation.save(\"base_cnn_model_with_augmentation.h5\")\n",
    "visualize_history(history_base_augmented_cnn)"
   ]
  },
  {
   "cell_type": "markdown",
   "metadata": {},
   "source": [
    "# Transfer Learning"
   ]
  },
  {
   "cell_type": "code",
   "execution_count": null,
   "metadata": {},
   "outputs": [],
   "source": [
    "def create_xception_model():\n",
    "    conv_base = Xception(\n",
    "        include_top=False,\n",
    "        weights='imagenet',\n",
    "        input_shape=input_shape\n",
    "    )\n",
    "\n",
    "    for layer in conv_base.layers:\n",
    "        layer.trainable = False\n",
    "\n",
    "    xception = models.Sequential()\n",
    "    xception.add(conv_base)\n",
    "    xception.add(layers.GlobalAveragePooling2D())\n",
    "    xception.add(layers.Dense(1, activation='softmax'))\n",
    "    xception.compile(\n",
    "        optimizer = 'adam', \n",
    "        loss = 'binary_crossentropy', \n",
    "        metrics = ['accuracy']\n",
    "    )\n",
    "    return xception\n",
    "\n",
    "\n",
    "xception = create_xception_model()\n",
    "train_generator, validation_generator = get_augmented_train_test_generator()\n",
    "\n",
    "xception_history = xception.fit_generator(\n",
    "    generator=train_generator,\n",
    "    steps_per_epoch=347 // 32,\n",
    "    epochs=10,\n",
    "    validation_data=validation_generator,\n",
    "    validation_steps=10\n",
    ")\n",
    "\n",
    "xception.save(\"xception.h5\")\n",
    "visualize_history(history_base_augmented_cnn)"
   ]
  },
  {
   "cell_type": "markdown",
   "metadata": {},
   "source": [
    "## Fine Tuning"
   ]
  },
  {
   "cell_type": "code",
   "execution_count": null,
   "metadata": {},
   "outputs": [],
   "source": [
    "conv_base = Xception(\n",
    "    include_top=False,\n",
    "    weights='imagenet',\n",
    "    input_shape=input_shape\n",
    ")\n",
    "\n",
    "for layer in conv_base.layers[:-5]:\n",
    "    layer.trainable = False\n",
    "\n",
    "xception_fine_tuning = create_xception_model()\n",
    "\n",
    "xception_history = xception_fine_tuning.fit_generator(\n",
    "    generator=train_generator,\n",
    "    steps_per_epoch=347 // 32,\n",
    "    epochs=10,\n",
    "    validation_data=validation_generator,\n",
    "    validation_steps=10\n",
    ")\n",
    "\n",
    "xception_fine_tuning.save(\"xception_fine_tuning.h5\")"
   ]
  }
 ],
 "metadata": {
  "kernelspec": {
   "display_name": "Python 3",
   "language": "python",
   "name": "python3"
  },
  "language_info": {
   "codemirror_mode": {
    "name": "ipython",
    "version": 3
   },
   "file_extension": ".py",
   "mimetype": "text/x-python",
   "name": "python",
   "nbconvert_exporter": "python",
   "pygments_lexer": "ipython3",
   "version": "3.7.4"
  }
 },
 "nbformat": 4,
 "nbformat_minor": 2
}
