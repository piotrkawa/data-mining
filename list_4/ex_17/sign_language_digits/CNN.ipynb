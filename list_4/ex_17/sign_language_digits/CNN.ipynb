{
 "cells": [
  {
   "cell_type": "code",
   "execution_count": 1,
   "metadata": {},
   "outputs": [],
   "source": [
    "from tensorflow.keras.applications import Xception\n",
    "import numpy as np\n",
    "import matplotlib.pyplot as plt\n",
    "from sklearn.model_selection import train_test_split\n",
    "from tensorflow.keras import layers, models\n",
    "from tensorflow.keras.models import  Sequential\n",
    "from tensorflow.keras.layers import Conv2D, MaxPooling2D, Flatten, Dense, BatchNormalization, Activation, Dropout\n",
    "from tensorflow.keras.preprocessing.image import ImageDataGenerator\n",
    "from tensorflow.keras.applications import Xception"
   ]
  },
  {
   "cell_type": "markdown",
   "metadata": {},
   "source": [
    "# Task\n",
    "\n",
    "The task concerns the problem of image classification of sign language digits.\n",
    "\n",
    "https://www.kaggle.com/ardamavi/sign-language-digits-dataset"
   ]
  },
  {
   "cell_type": "code",
   "execution_count": 2,
   "metadata": {},
   "outputs": [],
   "source": [
    "X = np.load('dataset/X.npy')\n",
    "y = np.load('dataset/Y.npy')\n",
    "img_size = 64\n",
    "\n",
    "X_train, X_test, y_train, y_test = train_test_split(X, y, test_size=0.25, random_state=42)\n",
    "\n",
    "X_test = X_test[:,:,:,np.newaxis]\n",
    "X_train = X_train[:,:,:,np.newaxis]\n",
    "\n",
    "def visualize_digits():\n",
    "    image_index_list = [260, 900, 1800, 1600, 1400, 2061, 700, 500, 1111, 100]\n",
    "\n",
    "    for number in range(10):\n",
    "        plt.figure(figsize=(8,5))\n",
    "        number_image = x_load[image_index_list[number]]\n",
    "        plt.imshow(number_image.reshape(img_size, img_size), cmap=\"gray\")\n",
    "        title = \"Sign \" + str(number) \n",
    "        plt.title(title)\n",
    "    plt.show()\n",
    "    \n",
    "def visualize_history(history):\n",
    "    acc = history.history['accuracy']\n",
    "    val_acc = history.history['val_accuracy']\n",
    "    loss = history.history['loss']\n",
    "    val_loss = history.history['val_loss']\n",
    "\n",
    "    epochs = range(len(acc))\n",
    "\n",
    "    plt.plot(epochs, acc, 'bo', label='Training accuracy')\n",
    "    plt.plot(epochs, val_acc, 'b', label='Validation accuracy')\n",
    "    plt.title('Training and validation accuracy')\n",
    "    plt.legend()\n",
    "\n",
    "    plt.figure()\n",
    "\n",
    "    plt.plot(epochs, loss, 'bo', label='Training loss')\n",
    "    plt.plot(epochs, val_loss, 'b', label='Validation loss')\n",
    "    plt.title('Training and validation loss')\n",
    "    plt.legend()\n",
    "\n",
    "    plt.show()"
   ]
  },
  {
   "cell_type": "markdown",
   "metadata": {},
   "source": [
    "# Basic CNN"
   ]
  },
  {
   "cell_type": "code",
   "execution_count": 3,
   "metadata": {},
   "outputs": [],
   "source": [
    "target_size = (64, 64)\n",
    "batch_size = 32\n",
    "\n",
    "training_steps = len(X_train) // batch_size\n",
    "validation_steps = len(X_test) // batch_size"
   ]
  },
  {
   "cell_type": "code",
   "execution_count": 4,
   "metadata": {
    "scrolled": true
   },
   "outputs": [
    {
     "name": "stdout",
     "output_type": "stream",
     "text": [
      "Model: \"sequential\"\n",
      "_________________________________________________________________\n",
      "Layer (type)                 Output Shape              Param #   \n",
      "=================================================================\n",
      "conv2d (Conv2D)              (None, 31, 31, 64)        1088      \n",
      "_________________________________________________________________\n",
      "activation (Activation)      (None, 31, 31, 64)        0         \n",
      "_________________________________________________________________\n",
      "conv2d_1 (Conv2D)            (None, 28, 28, 64)        65600     \n",
      "_________________________________________________________________\n",
      "max_pooling2d (MaxPooling2D) (None, 7, 7, 64)          0         \n",
      "_________________________________________________________________\n",
      "dropout (Dropout)            (None, 7, 7, 64)          0         \n",
      "_________________________________________________________________\n",
      "flatten (Flatten)            (None, 3136)              0         \n",
      "_________________________________________________________________\n",
      "dense (Dense)                (None, 512)               1606144   \n",
      "_________________________________________________________________\n",
      "batch_normalization (BatchNo (None, 512)               2048      \n",
      "_________________________________________________________________\n",
      "dense_1 (Dense)              (None, 10)                5130      \n",
      "=================================================================\n",
      "Total params: 1,680,010\n",
      "Trainable params: 1,678,986\n",
      "Non-trainable params: 1,024\n",
      "_________________________________________________________________\n"
     ]
    }
   ],
   "source": [
    "def build_base_cnn_model():\n",
    "    model = Sequential()\n",
    "    model.add(Conv2D(input_shape=(64, 64, 1), filters=64, kernel_size=(4,4), strides=(2)))\n",
    "    model.add(Activation('relu'))\n",
    "    model.add(Conv2D(filters=64, kernel_size=(4,4), strides=(1)))\n",
    "    model.add(MaxPooling2D(pool_size=4))\n",
    "    model.add(Dropout(0.3))\n",
    "    model.add(Flatten())\n",
    "    model.add(Dense(512, activation='relu'))\n",
    "    model.add(BatchNormalization())\n",
    "    model.add(Dense(10, activation='softmax'))\n",
    "    model.compile(\n",
    "        optimizer = 'adam', \n",
    "        loss = 'categorical_crossentropy', \n",
    "        metrics = ['accuracy']\n",
    "    )\n",
    "    return model\n",
    "\n",
    "base_cnn_model = build_base_cnn_model()\n",
    "base_cnn_model.summary()"
   ]
  },
  {
   "cell_type": "markdown",
   "metadata": {},
   "source": [
    "## ImageDataGenerator for base case"
   ]
  },
  {
   "cell_type": "code",
   "execution_count": 5,
   "metadata": {
    "scrolled": true
   },
   "outputs": [
    {
     "name": "stdout",
     "output_type": "stream",
     "text": [
      "Epoch 1/30\n",
      "48/48 [==============================] - 13s 279ms/step - loss: 1.3920 - accuracy: 0.5568 - val_loss: 1.8631 - val_accuracy: 0.6328\n",
      "Epoch 2/30\n",
      "48/48 [==============================] - 14s 282ms/step - loss: 0.6511 - accuracy: 0.7906 - val_loss: 1.7080 - val_accuracy: 0.7559\n",
      "Epoch 3/30\n",
      "48/48 [==============================] - 14s 288ms/step - loss: 0.4247 - accuracy: 0.8581 - val_loss: 1.5217 - val_accuracy: 0.6953\n",
      "Epoch 4/30\n",
      "48/48 [==============================] - 13s 271ms/step - loss: 0.2658 - accuracy: 0.9182 - val_loss: 1.0175 - val_accuracy: 0.8535\n",
      "Epoch 5/30\n",
      "48/48 [==============================] - 13s 275ms/step - loss: 0.2274 - accuracy: 0.9221 - val_loss: 0.9015 - val_accuracy: 0.8789\n",
      "Epoch 6/30\n",
      "48/48 [==============================] - 13s 278ms/step - loss: 0.1385 - accuracy: 0.9616 - val_loss: 0.6312 - val_accuracy: 0.8711\n",
      "Epoch 7/30\n",
      "48/48 [==============================] - 13s 271ms/step - loss: 0.1632 - accuracy: 0.9477 - val_loss: 0.3788 - val_accuracy: 0.9121\n",
      "Epoch 8/30\n",
      "48/48 [==============================] - 13s 273ms/step - loss: 0.1036 - accuracy: 0.9690 - val_loss: 0.2980 - val_accuracy: 0.9199\n",
      "Epoch 9/30\n",
      "48/48 [==============================] - 13s 275ms/step - loss: 0.1002 - accuracy: 0.9723 - val_loss: 0.2142 - val_accuracy: 0.9277\n",
      "Epoch 10/30\n",
      "48/48 [==============================] - 13s 277ms/step - loss: 0.0476 - accuracy: 0.9876 - val_loss: 0.2312 - val_accuracy: 0.9199\n",
      "Epoch 11/30\n",
      "48/48 [==============================] - 13s 271ms/step - loss: 0.0559 - accuracy: 0.9832 - val_loss: 0.1867 - val_accuracy: 0.9492\n",
      "Epoch 12/30\n",
      "48/48 [==============================] - 13s 272ms/step - loss: 0.0570 - accuracy: 0.9822 - val_loss: 0.1720 - val_accuracy: 0.9355\n",
      "Epoch 13/30\n",
      "48/48 [==============================] - 13s 275ms/step - loss: 0.0489 - accuracy: 0.9855 - val_loss: 0.2010 - val_accuracy: 0.9375\n",
      "Epoch 14/30\n",
      "48/48 [==============================] - 13s 278ms/step - loss: 0.0275 - accuracy: 0.9935 - val_loss: 0.1801 - val_accuracy: 0.9453\n",
      "Epoch 15/30\n",
      "48/48 [==============================] - 13s 269ms/step - loss: 0.0256 - accuracy: 0.9960 - val_loss: 0.1050 - val_accuracy: 0.9707\n",
      "Epoch 16/30\n",
      "48/48 [==============================] - 13s 278ms/step - loss: 0.0194 - accuracy: 0.9960 - val_loss: 0.1161 - val_accuracy: 0.9629\n",
      "Epoch 17/30\n",
      "48/48 [==============================] - 13s 274ms/step - loss: 0.0164 - accuracy: 0.9974 - val_loss: 0.1280 - val_accuracy: 0.9551\n",
      "Epoch 18/30\n",
      "48/48 [==============================] - 13s 274ms/step - loss: 0.0166 - accuracy: 0.9974 - val_loss: 0.1112 - val_accuracy: 0.9609\n",
      "Epoch 19/30\n",
      "48/48 [==============================] - 13s 276ms/step - loss: 0.0241 - accuracy: 0.9948 - val_loss: 0.1286 - val_accuracy: 0.9629\n",
      "Epoch 20/30\n",
      "48/48 [==============================] - 13s 270ms/step - loss: 0.0177 - accuracy: 0.9960 - val_loss: 0.0988 - val_accuracy: 0.9668\n",
      "Epoch 21/30\n",
      "48/48 [==============================] - 13s 276ms/step - loss: 0.0131 - accuracy: 0.9974 - val_loss: 0.1091 - val_accuracy: 0.9590\n",
      "Epoch 22/30\n",
      "48/48 [==============================] - 13s 276ms/step - loss: 0.0273 - accuracy: 0.9921 - val_loss: 0.2660 - val_accuracy: 0.9043\n",
      "Epoch 23/30\n",
      "48/48 [==============================] - 13s 273ms/step - loss: 0.0295 - accuracy: 0.9921 - val_loss: 0.1411 - val_accuracy: 0.9629\n",
      "Epoch 24/30\n",
      "48/48 [==============================] - 13s 277ms/step - loss: 0.0198 - accuracy: 0.9961 - val_loss: 0.1757 - val_accuracy: 0.9336\n",
      "Epoch 25/30\n",
      "48/48 [==============================] - 13s 271ms/step - loss: 0.0160 - accuracy: 0.9973 - val_loss: 0.1183 - val_accuracy: 0.9629\n",
      "Epoch 26/30\n",
      "48/48 [==============================] - 13s 280ms/step - loss: 0.0076 - accuracy: 0.9987 - val_loss: 0.1180 - val_accuracy: 0.9551\n",
      "Epoch 27/30\n",
      "48/48 [==============================] - 13s 273ms/step - loss: 0.0061 - accuracy: 0.9993 - val_loss: 0.0991 - val_accuracy: 0.9688\n",
      "Epoch 28/30\n",
      "48/48 [==============================] - 13s 277ms/step - loss: 0.0171 - accuracy: 0.9967 - val_loss: 0.2084 - val_accuracy: 0.9336\n",
      "Epoch 29/30\n",
      "48/48 [==============================] - 13s 273ms/step - loss: 0.0136 - accuracy: 0.9973 - val_loss: 0.1130 - val_accuracy: 0.9609\n",
      "Epoch 30/30\n",
      "48/48 [==============================] - 13s 279ms/step - loss: 0.0085 - accuracy: 0.9987 - val_loss: 0.1060 - val_accuracy: 0.9570\n"
     ]
    },
    {
     "data": {
      "image/png": "[encoded data removed]",
      "text/plain": [
       "<Figure size 432x288 with 1 Axes>"
      ]
     },
     "metadata": {
      "needs_background": "light"
     },
     "output_type": "display_data"
    },
    {
     "data": {
      "image/png": "[encoded data removed]",
      "text/plain": [
       "<Figure size 432x288 with 1 Axes>"
      ]
     },
     "metadata": {
      "needs_background": "light"
     },
     "output_type": "display_data"
    }
   ],
   "source": [
    "def get_train_test_generator():\n",
    "    train_datagen = ImageDataGenerator()\n",
    "    test_datagen = ImageDataGenerator()\n",
    "\n",
    "    train_generator = train_datagen.flow(\n",
    "        X_train,\n",
    "        y_train,\n",
    "        batch_size=batch_size,\n",
    "    )\n",
    "\n",
    "    validation_generator = test_datagen.flow(\n",
    "        X_test,\n",
    "        y_test,\n",
    "        batch_size=batch_size,\n",
    "    )\n",
    "    return train_generator, validation_generator\n",
    "\n",
    "train_generator, validation_generator = get_train_test_generator()\n",
    "\n",
    "\n",
    "history_cnn = base_cnn_model.fit_generator(\n",
    "    train_generator,  \n",
    "    steps_per_epoch=training_steps,\n",
    "    epochs=30,\n",
    "    validation_data=validation_generator,\n",
    "    validation_steps=validation_steps\n",
    ")\n",
    "\n",
    "base_cnn_model.save(\"base_cnn_model.h5\")\n",
    "visualize_history(history_cnn)"
   ]
  },
  {
   "cell_type": "code",
   "execution_count": 6,
   "metadata": {
    "scrolled": true
   },
   "outputs": [],
   "source": [
    "def perform_test():\n",
    "    correct_guesses = 0\n",
    "    number_of_samples = 1\n",
    "\n",
    "    for i in range(len(X_test)):\n",
    "        img_to_show = X_test[i]\n",
    "        labels = y_test[i]\n",
    "        max_label = labels.argmax()\n",
    "        img_to_predict = img_to_show[np.newaxis,:,:,:]\n",
    "        prediction = model.predict(img_to_predict)\n",
    "        max_pred = prediction.argmax()\n",
    "\n",
    "        if max_label == max_pred:\n",
    "            correct_guesses +=1\n",
    "    print(f\"Correctly predicted {correct_guesses}/{number_of_samples}\")"
   ]
  },
  {
   "cell_type": "markdown",
   "metadata": {},
   "source": [
    "# Basic CNN with Data Augmentation\n",
    "## ImageDataGenerator with Data Augmentation"
   ]
  },
  {
   "cell_type": "code",
   "execution_count": 8,
   "metadata": {
    "scrolled": true
   },
   "outputs": [
    {
     "name": "stdout",
     "output_type": "stream",
     "text": [
      "Epoch 1/30\n",
      "48/48 [==============================] - 14s 284ms/step - loss: 2.7102 - accuracy: 0.1400 - val_loss: 2.1751 - val_accuracy: 0.1895\n",
      "Epoch 2/30\n",
      "48/48 [==============================] - 15s 317ms/step - loss: 2.1307 - accuracy: 0.2845 - val_loss: 2.1884 - val_accuracy: 0.0957\n",
      "Epoch 3/30\n",
      "48/48 [==============================] - 14s 294ms/step - loss: 1.7634 - accuracy: 0.3948 - val_loss: 2.0812 - val_accuracy: 0.4062\n",
      "Epoch 4/30\n",
      "48/48 [==============================] - 13s 273ms/step - loss: 1.4668 - accuracy: 0.4993 - val_loss: 1.9437 - val_accuracy: 0.3711\n",
      "Epoch 5/30\n",
      "48/48 [==============================] - 13s 276ms/step - loss: 1.2679 - accuracy: 0.5806 - val_loss: 1.7425 - val_accuracy: 0.4238\n",
      "Epoch 6/30\n",
      "48/48 [==============================] - 13s 272ms/step - loss: 1.1427 - accuracy: 0.6116 - val_loss: 1.5750 - val_accuracy: 0.4648\n",
      "Epoch 7/30\n",
      "48/48 [==============================] - 13s 271ms/step - loss: 0.9541 - accuracy: 0.6823 - val_loss: 1.2758 - val_accuracy: 0.6602\n",
      "Epoch 8/30\n",
      "48/48 [==============================] - 13s 271ms/step - loss: 0.8761 - accuracy: 0.6962 - val_loss: 1.0924 - val_accuracy: 0.7695\n",
      "Epoch 9/30\n",
      "48/48 [==============================] - 13s 275ms/step - loss: 0.7543 - accuracy: 0.7493 - val_loss: 0.7194 - val_accuracy: 0.8145\n",
      "Epoch 10/30\n",
      "48/48 [==============================] - 13s 271ms/step - loss: 0.7442 - accuracy: 0.7534 - val_loss: 0.5798 - val_accuracy: 0.8457\n",
      "Epoch 11/30\n",
      "48/48 [==============================] - 13s 272ms/step - loss: 0.6411 - accuracy: 0.7906 - val_loss: 0.4726 - val_accuracy: 0.8613\n",
      "Epoch 12/30\n",
      "48/48 [==============================] - 13s 273ms/step - loss: 0.6156 - accuracy: 0.8085 - val_loss: 0.3643 - val_accuracy: 0.9062\n",
      "Epoch 13/30\n",
      "48/48 [==============================] - 13s 273ms/step - loss: 0.5414 - accuracy: 0.8316 - val_loss: 0.2735 - val_accuracy: 0.9219\n",
      "Epoch 14/30\n",
      "48/48 [==============================] - 13s 273ms/step - loss: 0.4680 - accuracy: 0.8402 - val_loss: 0.4350 - val_accuracy: 0.8418\n",
      "Epoch 15/30\n",
      "48/48 [==============================] - 13s 274ms/step - loss: 0.5079 - accuracy: 0.8223 - val_loss: 0.2590 - val_accuracy: 0.9121\n",
      "Epoch 16/30\n",
      "48/48 [==============================] - 13s 272ms/step - loss: 0.4686 - accuracy: 0.8461 - val_loss: 0.2015 - val_accuracy: 0.9492\n",
      "Epoch 17/30\n",
      "48/48 [==============================] - 13s 271ms/step - loss: 0.4052 - accuracy: 0.8653 - val_loss: 0.2156 - val_accuracy: 0.9316\n",
      "Epoch 18/30\n",
      "48/48 [==============================] - 13s 271ms/step - loss: 0.4592 - accuracy: 0.8520 - val_loss: 0.1961 - val_accuracy: 0.9492\n",
      "Epoch 19/30\n",
      "48/48 [==============================] - 13s 268ms/step - loss: 0.3988 - accuracy: 0.8758 - val_loss: 0.2052 - val_accuracy: 0.9434\n",
      "Epoch 20/30\n",
      "48/48 [==============================] - 13s 269ms/step - loss: 0.4282 - accuracy: 0.8600 - val_loss: 0.1431 - val_accuracy: 0.9492\n",
      "Epoch 21/30\n",
      "48/48 [==============================] - 13s 273ms/step - loss: 0.3873 - accuracy: 0.8704 - val_loss: 0.1983 - val_accuracy: 0.9219\n",
      "Epoch 22/30\n",
      "48/48 [==============================] - 13s 266ms/step - loss: 0.3931 - accuracy: 0.8861 - val_loss: 0.1556 - val_accuracy: 0.9473\n",
      "Epoch 23/30\n",
      "48/48 [==============================] - 13s 273ms/step - loss: 0.3805 - accuracy: 0.8776 - val_loss: 0.1525 - val_accuracy: 0.9570\n",
      "Epoch 24/30\n",
      "48/48 [==============================] - 13s 272ms/step - loss: 0.3410 - accuracy: 0.9016 - val_loss: 0.1303 - val_accuracy: 0.9629\n",
      "Epoch 25/30\n",
      "48/48 [==============================] - 13s 269ms/step - loss: 0.3614 - accuracy: 0.8831 - val_loss: 0.1048 - val_accuracy: 0.9609\n",
      "Epoch 26/30\n",
      "48/48 [==============================] - 13s 272ms/step - loss: 0.3387 - accuracy: 0.9036 - val_loss: 0.1256 - val_accuracy: 0.9590\n",
      "Epoch 27/30\n",
      "48/48 [==============================] - 13s 271ms/step - loss: 0.3085 - accuracy: 0.9036 - val_loss: 0.0958 - val_accuracy: 0.9727\n",
      "Epoch 28/30\n",
      "48/48 [==============================] - 13s 267ms/step - loss: 0.3285 - accuracy: 0.8901 - val_loss: 0.0870 - val_accuracy: 0.9805\n",
      "Epoch 29/30\n",
      "48/48 [==============================] - 13s 273ms/step - loss: 0.2647 - accuracy: 0.9219 - val_loss: 0.1141 - val_accuracy: 0.9629\n",
      "Epoch 30/30\n",
      "48/48 [==============================] - 13s 271ms/step - loss: 0.2887 - accuracy: 0.9148 - val_loss: 0.1237 - val_accuracy: 0.9668\n"
     ]
    },
    {
     "data": {
      "image/png": "[encoded data removed]",
      "text/plain": [
       "<Figure size 432x288 with 1 Axes>"
      ]
     },
     "metadata": {
      "needs_background": "light"
     },
     "output_type": "display_data"
    },
    {
     "data": {
      "image/png": "[encoded data removed]",
      "text/plain": [
       "<Figure size 432x288 with 1 Axes>"
      ]
     },
     "metadata": {
      "needs_background": "light"
     },
     "output_type": "display_data"
    }
   ],
   "source": [
    "def get_train_test_generator_augmented():\n",
    "    train_datagen = ImageDataGenerator(\n",
    "        rotation_range=20,\n",
    "        width_shift_range=0.2,\n",
    "        height_shift_range=0.2,\n",
    "    )\n",
    "    test_datagen = ImageDataGenerator()\n",
    "\n",
    "    train_generator = train_datagen.flow(\n",
    "        X_train,\n",
    "        y_train,\n",
    "        batch_size=batch_size,\n",
    "    )\n",
    "\n",
    "    validation_generator = test_datagen.flow(\n",
    "        X_test,\n",
    "        y_test,\n",
    "        batch_size=batch_size,\n",
    "    )\n",
    "\n",
    "    return train_generator, validation_generator\n",
    "\n",
    "train_generator, validation_generator = get_train_test_generator_augmented()\n",
    "\n",
    "base_cnn_model_augmentation = build_base_cnn_model()\n",
    "\n",
    "history_cnn_augmentation = base_cnn_model_augmentation.fit_generator(\n",
    "    train_generator,\n",
    "    steps_per_epoch=training_steps,\n",
    "    epochs=30,\n",
    "    validation_data=validation_generator,\n",
    "    validation_steps=validation_steps\n",
    ")\n",
    "\n",
    "base_cnn_model_augmentation.save(\"base_cnn_model_augmentation.h5\")\n",
    "visualize_history(history_cnn_augmentation)"
   ]
  }
 ],
 "metadata": {
  "kernelspec": {
   "display_name": "Python 3",
   "language": "python",
   "name": "python3"
  },
  "language_info": {
   "codemirror_mode": {
    "name": "ipython",
    "version": 3
   },
   "file_extension": ".py",
   "mimetype": "text/x-python",
   "name": "python",
   "nbconvert_exporter": "python",
   "pygments_lexer": "ipython3",
   "version": "3.7.4"
  }
 },
 "nbformat": 4,
 "nbformat_minor": 2
}
